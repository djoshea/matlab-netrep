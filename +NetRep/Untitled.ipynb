{
 "cells": [
  {
   "cell_type": "code",
   "execution_count": null,
   "id": "58d5ddb5-b6f8-4453-9fe9-c05070f711cb",
   "metadata": {},
   "outputs": [],
   "source": [
    "addpath ~/npl\n",
    "setupPath\n",
    "startupJupyter"
   ]
  },
  {
   "cell_type": "code",
   "execution_count": null,
   "id": "1401c4d0-04c8-4911-866a-8d73cc8d1f21",
   "metadata": {},
   "outputs": [],
   "source": [
    "desktop"
   ]
  },
  {
   "cell_type": "code",
   "execution_count": 6,
   "id": "c080fdab-9a77-4827-98e7-8a4b4177fe86",
   "metadata": {},
   "outputs": [
    {
     "name": "stdout",
     "output_type": "stream",
     "text": [
      "\n",
      "ans =\n",
      "\n",
      "    '9.11.0.1769968 (R2021b)'\n",
      "\n"
     ]
    }
   ],
   "source": [
    "version"
   ]
  },
  {
   "cell_type": "code",
   "execution_count": null,
   "id": "ec85af0a-d64b-4def-9be7-b6c61133e0ac",
   "metadata": {},
   "outputs": [],
   "source": []
  }
 ],
 "metadata": {
  "kernelspec": {
   "display_name": "iMatlab [conda env:jupyter] *",
   "language": "matlab",
   "name": "conda-env-jupyter-imatlab"
  },
  "language_info": {
   "codemirror_mode": "octave",
   "file_extension": ".m",
   "mimetype": "text/x-matlab",
   "name": "matlab",
   "nbconvert_exporter": "imatlab._exporter.MatlabExporter",
   "pygments_lexer": "matlab",
   "version": "9.11.0.1769968 (R2021b)"
  }
 },
 "nbformat": 4,
 "nbformat_minor": 5
}
